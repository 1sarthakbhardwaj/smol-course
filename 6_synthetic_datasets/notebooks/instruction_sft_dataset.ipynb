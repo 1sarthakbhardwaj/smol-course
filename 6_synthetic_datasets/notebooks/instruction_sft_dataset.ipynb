{
 "cells": [
  {
   "cell_type": "markdown",
   "metadata": {},
   "source": [
    "# Generate a dataset for instruction tuning\n",
    "\n",
    "This notebook will guide you through the process of generating a dataset for instruction tuning. We'll use the `distilabel` package to generate a dataset for instruction tuning.\n",
    "\n",
    "So let's dig in to some instruction tuning datasets.\n",
    "\n",
    "<div style='background-color: lightblue; padding: 10px; border-radius: 5px; margin-bottom: 20px; color:black'>\n",
    "    <h2 style='margin: 0;color:blue'>Exercise: Generate a dataset for instruction tuning</h2>\n",
    "    <p>Now that you've seen how to generate a dataset for instruction tuning, try generating a dataset for instruction tuning.</p>\n",
    "    <p><b>Difficulty Levels</b></p>\n",
    "    <p>🐢 Generate an instruction tuning dataset</p>\n",
    "    <p>🐕 Generate a dataset for instruction tuning with seed data</p>\n",
    "    <p>🦁 Generate a dataset for instruction tuning with seed data and with instruction evolution</p>\n",
    "</div>"
   ]
  }
 ],
 "metadata": {
  "language_info": {
   "name": "python"
  }
 },
 "nbformat": 4,
 "nbformat_minor": 2
}
